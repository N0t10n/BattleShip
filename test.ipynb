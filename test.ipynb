{
 "cells": [
  {
   "cell_type": "code",
   "execution_count": 1,
   "metadata": {},
   "outputs": [],
   "source": [
    "import numpy as np\n",
    "from functions import BattleShip as bs"
   ]
  },
  {
   "cell_type": "code",
   "execution_count": 2,
   "metadata": {},
   "outputs": [
    {
     "name": "stdout",
     "output_type": "stream",
     "text": [
      "(1, 10, 2)\n",
      "{(0, 8, 9): [(0, 7, 9), (0, 9, 9), (0, 8, 8), (0, 7, 8), (0, 9, 8)]}\n"
     ]
    }
   ],
   "source": [
    "board = np.full((2, 10, 10), \" \")\n",
    "\n",
    "a = bs.rand_point(board, 1)\n",
    "b = bs.neighbor(board, (0, 8, 9))\n",
    "\n",
    "print(a)\n",
    "print(b)"
   ]
  },
  {
   "cell_type": "code",
   "execution_count": 8,
   "metadata": {},
   "outputs": [],
   "source": [
    "def direction(board, position=tuple, length=int):\n",
    "    p = position\n",
    "    l = length\n",
    "\n",
    "    if board[p] != \"O\":\n",
    "        directions = []\n",
    "        # Vertical axis\n",
    "        # Down\n",
    "        if p[1]+l < 10:\n",
    "            x = board[p[1]:p[1]+l, p[2]] == \" \"\n",
    "            for i in x:\n",
    "                if i == True:\n",
    "                    directions.append(\"S\")\n",
    "        # Up\n",
    "        if p[1]-l >= 0:\n",
    "            x = board[p[1]:p[1]-l:-1, p[2]] == \" \"\n",
    "            for i in x:\n",
    "                if i == True:\n",
    "                    directions.append(\"N\")\n",
    "\n",
    "        # Horizontal axis\n",
    "        # Right\n",
    "        if p[1]+l < 10:\n",
    "            x = board[p[1], p[2]:p[2]+l] == \" \"\n",
    "            for i in x:\n",
    "                if i == True:\n",
    "                    directions.append(\"E\")\n",
    "        # Left\n",
    "        if p[1]-l >= 0:\n",
    "            x = board[p[1], p[2]:p[2]-l:-1] == \" \"\n",
    "            for i in x:\n",
    "                if i == True:\n",
    "                    directions.append(\"O\")\n",
    "        \n",
    "        # Checks for any direction appears at least \"distance\" times\n",
    "        # First counting each time directions appear\n",
    "        c = {\"N\":0, \"S\":0, \"E\":0, \"O\":0}\n",
    "        for e in directions:\n",
    "            if e in c.keys():\n",
    "                c[e] += 1\n",
    "        # Second, just keeping keys equal to 4\n",
    "        d = [k for k, v in c.items() if v == l]\n",
    "\n",
    "        return d"
   ]
  },
  {
   "cell_type": "code",
   "execution_count": 9,
   "metadata": {},
   "outputs": [
    {
     "ename": "ValueError",
     "evalue": "The truth value of an array with more than one element is ambiguous. Use a.any() or a.all()",
     "output_type": "error",
     "traceback": [
      "\u001b[1;31m---------------------------------------------------------------------------\u001b[0m",
      "\u001b[1;31mValueError\u001b[0m                                Traceback (most recent call last)",
      "\u001b[1;32mc:\\Users\\malva\\Documents\\Projects\\BattleShip\\test.ipynb Cell 4'\u001b[0m in \u001b[0;36m<module>\u001b[1;34m\u001b[0m\n\u001b[1;32m----> <a href='vscode-notebook-cell:/c%3A/Users/malva/Documents/Projects/BattleShip/test.ipynb#ch0000010?line=0'>1</a>\u001b[0m direction(board, (\u001b[39m0\u001b[39;49m, \u001b[39m0\u001b[39;49m, \u001b[39m9\u001b[39;49m), \u001b[39m4\u001b[39;49m)\n",
      "\u001b[1;32mc:\\Users\\malva\\Documents\\Projects\\BattleShip\\test.ipynb Cell 3'\u001b[0m in \u001b[0;36mdirection\u001b[1;34m(board, position, length)\u001b[0m\n\u001b[0;32m     <a href='vscode-notebook-cell:/c%3A/Users/malva/Documents/Projects/BattleShip/test.ipynb#ch0000009?line=9'>10</a>\u001b[0m     x \u001b[39m=\u001b[39m board[p[\u001b[39m1\u001b[39m]:p[\u001b[39m1\u001b[39m]\u001b[39m+\u001b[39ml, p[\u001b[39m2\u001b[39m]] \u001b[39m==\u001b[39m \u001b[39m\"\u001b[39m\u001b[39m \u001b[39m\u001b[39m\"\u001b[39m\n\u001b[0;32m     <a href='vscode-notebook-cell:/c%3A/Users/malva/Documents/Projects/BattleShip/test.ipynb#ch0000009?line=10'>11</a>\u001b[0m     \u001b[39mfor\u001b[39;00m i \u001b[39min\u001b[39;00m x:\n\u001b[1;32m---> <a href='vscode-notebook-cell:/c%3A/Users/malva/Documents/Projects/BattleShip/test.ipynb#ch0000009?line=11'>12</a>\u001b[0m         \u001b[39mif\u001b[39;00m i \u001b[39m==\u001b[39;49m \u001b[39mTrue\u001b[39;49;00m:\n\u001b[0;32m     <a href='vscode-notebook-cell:/c%3A/Users/malva/Documents/Projects/BattleShip/test.ipynb#ch0000009?line=12'>13</a>\u001b[0m             directions\u001b[39m.\u001b[39mappend(\u001b[39m\"\u001b[39m\u001b[39mS\u001b[39m\u001b[39m\"\u001b[39m)\n\u001b[0;32m     <a href='vscode-notebook-cell:/c%3A/Users/malva/Documents/Projects/BattleShip/test.ipynb#ch0000009?line=13'>14</a>\u001b[0m \u001b[39m# Up\u001b[39;00m\n",
      "\u001b[1;31mValueError\u001b[0m: The truth value of an array with more than one element is ambiguous. Use a.any() or a.all()"
     ]
    }
   ],
   "source": [
    "direction(board, (0, 0, 9), 4)"
   ]
  },
  {
   "cell_type": "code",
   "execution_count": 25,
   "metadata": {},
   "outputs": [],
   "source": [
    "\n",
    "c = {\"N\":0, \"S\":0, \"E\":0, \"O\":0}"
   ]
  },
  {
   "cell_type": "code",
   "execution_count": 33,
   "metadata": {},
   "outputs": [
    {
     "data": {
      "text/plain": [
       "{'N': 8, 'S': 0, 'E': 0, 'O': 0}"
      ]
     },
     "execution_count": 33,
     "metadata": {},
     "output_type": "execute_result"
    }
   ],
   "source": [
    "c[\"N\"] += 1\n",
    "c"
   ]
  },
  {
   "cell_type": "code",
   "execution_count": 3,
   "metadata": {},
   "outputs": [
    {
     "data": {
      "text/plain": [
       "array([[[' ', ' ', ' ', ' ', ' ', ' ', ' ', ' ', ' ', ' '],\n",
       "        [' ', ' ', ' ', ' ', ' ', ' ', ' ', ' ', ' ', ' '],\n",
       "        [' ', ' ', ' ', ' ', ' ', ' ', ' ', ' ', ' ', ' '],\n",
       "        [' ', ' ', ' ', ' ', ' ', ' ', ' ', ' ', ' ', ' '],\n",
       "        [' ', ' ', ' ', ' ', ' ', ' ', ' ', ' ', ' ', ' '],\n",
       "        [' ', ' ', ' ', ' ', ' ', ' ', ' ', ' ', ' ', ' '],\n",
       "        [' ', ' ', ' ', ' ', ' ', ' ', ' ', ' ', ' ', ' '],\n",
       "        [' ', ' ', ' ', ' ', ' ', ' ', ' ', ' ', ' ', ' '],\n",
       "        [' ', ' ', ' ', ' ', ' ', ' ', ' ', ' ', ' ', ' '],\n",
       "        [' ', ' ', ' ', ' ', ' ', ' ', ' ', ' ', ' ', ' ']],\n",
       "\n",
       "       [[' ', ' ', ' ', ' ', ' ', ' ', ' ', ' ', ' ', ' '],\n",
       "        [' ', ' ', ' ', ' ', ' ', ' ', ' ', ' ', ' ', ' '],\n",
       "        [' ', ' ', ' ', ' ', ' ', ' ', ' ', ' ', ' ', ' '],\n",
       "        [' ', ' ', ' ', ' ', ' ', ' ', ' ', ' ', ' ', ' '],\n",
       "        [' ', ' ', ' ', ' ', ' ', ' ', ' ', ' ', ' ', ' '],\n",
       "        [' ', ' ', ' ', ' ', ' ', ' ', ' ', ' ', ' ', ' '],\n",
       "        [' ', ' ', ' ', ' ', ' ', ' ', ' ', ' ', ' ', ' '],\n",
       "        [' ', ' ', ' ', ' ', ' ', ' ', ' ', ' ', ' ', ' '],\n",
       "        [' ', ' ', ' ', ' ', ' ', ' ', ' ', ' ', ' ', ' '],\n",
       "        [' ', ' ', ' ', ' ', ' ', ' ', ' ', ' ', ' ', ' ']]], dtype='<U1')"
      ]
     },
     "execution_count": 3,
     "metadata": {},
     "output_type": "execute_result"
    }
   ],
   "source": [
    "board"
   ]
  }
 ],
 "metadata": {
  "interpreter": {
   "hash": "652df1fb7fdcda80b69e7f9ac464bf7cfecbf31578f5d2cb59dda1aacc69e331"
  },
  "kernelspec": {
   "display_name": "Python 3.10.2 64-bit",
   "language": "python",
   "name": "python3"
  },
  "language_info": {
   "codemirror_mode": {
    "name": "ipython",
    "version": 3
   },
   "file_extension": ".py",
   "mimetype": "text/x-python",
   "name": "python",
   "nbconvert_exporter": "python",
   "pygments_lexer": "ipython3",
   "version": "3.10.2"
  },
  "orig_nbformat": 4
 },
 "nbformat": 4,
 "nbformat_minor": 2
}
