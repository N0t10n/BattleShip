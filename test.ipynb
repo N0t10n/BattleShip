{
 "cells": [
  {
   "cell_type": "code",
   "execution_count": 6,
   "metadata": {},
   "outputs": [],
   "source": [
    "from numpy import random, full\n",
    "from functions import BattleShip as bs\n",
    "\n",
    "board = np.full((2, 10, 10), \" \")\n",
    "position = (0, 6, 9)\n",
    "length = 4\n",
    "\n",
    "# user = bs('Marcos')\n",
    "# machine = bs('Machine')"
   ]
  },
  {
   "cell_type": "code",
   "execution_count": 1042,
   "metadata": {},
   "outputs": [],
   "source": [
    "class B:\n",
    "\n",
    "    def __init__(self, id=str):\n",
    "        self.id = id\n",
    "        self.board = np.full((2, 10, 10), \" \")\n",
    "        self.boats = {1:4, 2:3, 3:2, 4:1}\n",
    "\n",
    "    def rand_point(self):\n",
    "\n",
    "        point = (0,) + tuple(random.randint((self.board.shape[1], self.board.shape[2])))\n",
    "\n",
    "        if self.board[point] == \" \":\n",
    "            return point\n",
    "        \n",
    "        else:\n",
    "            return B.rand_point(self)\n",
    "    \n",
    "    def direction(self, position=tuple, length=int):\n",
    "        p = position\n",
    "        l = int(length - 1)\n",
    "        c = {\"N\":0, \"S\":0, \"E\":0, \"W\":0}\n",
    "\n",
    "        if self.board[p] == \" \":\n",
    "            # Vertical axis\n",
    "            # Down\n",
    "            if p[1]+l < 10:\n",
    "                x = self.board[(0,), p[1]:p[1]+l, p[2]] == \" \"\n",
    "                if x.all() == True:\n",
    "                    c['S'] = l\n",
    "            # Up\n",
    "            if p[1]-l >= 0:\n",
    "                x = self.board[(0,), p[1]:p[1]-l:-1, p[2]] == \" \"\n",
    "                if x.all() == True:\n",
    "                    c['N'] = l\n",
    "\n",
    "            # Horizontal axis\n",
    "            # Right\n",
    "            if p[2]+l < 10:\n",
    "                x = self.board[(0,), p[1], p[2]:p[2]+l] == \" \"\n",
    "                if x.all() == True:\n",
    "                    c['E'] = l\n",
    "            # Left\n",
    "            if p[2]-l >= 0:\n",
    "                x = self.board[(0,), p[1], p[2]:p[2]-l:-1] == \" \"\n",
    "                if x.all() == True:\n",
    "                    c['W'] = l\n",
    "            \n",
    "            # Here compares which direction is equal to the length to be listed in \"d\"\n",
    "            d = [k for k, v in c.items() if v == l]\n",
    "\n",
    "            if d == []:\n",
    "                print('Hey', p)\n",
    "                return B.direction(self, B.rand_point, length)\n",
    "\n",
    "            # With the all possible directions now randomly stores one of them\n",
    "            rand_d = random.choice(d)\n",
    "\n",
    "            return rand_d\n",
    "\n",
    "        else:\n",
    "            print(\"There's no directions availabe\")\n",
    "    \n",
    "    def boat_placer(self, position=tuple, length=int, direction=str):\n",
    "        \"\"\"\n",
    "        Rewrites the array board with the placed boat.\n",
    "\n",
    "        Parameters:\n",
    "            -board: type array. A 3 dimensional matrix\n",
    "            -position: type tuple. The start boat coordinates.\n",
    "            -length: boat length as integer.\n",
    "            -direction: string type. Direction were the boat will be placed in the matrix coordinates.\n",
    "        \n",
    "        Return:\n",
    "            It doesn't return anything. Rewrites the current array with 'O'\n",
    "        \"\"\"\n",
    "        d = direction\n",
    "        p = position\n",
    "        l = length\n",
    "\n",
    "        # Indexing backwards in negative axis never lands in 0, always in -1\n",
    "        # But the array is indexed from 0 to 9 in both axis\n",
    "        # So for 'N' and 'W' directions we must slice rather in positive\n",
    "        if d == \"N\":\n",
    "            f_p = ((0,), p[1]+1-l, p[2])\n",
    "            self.board[(0,), p[1]:p[1]-l:-1, p[2]] = \"O\"\n",
    "        elif d == \"S\":\n",
    "            self.board[(0,), p[1]:p[1]+l, p[2]] = \"O\"\n",
    "        elif d == \"W\":\n",
    "            f_p = ((0,), p[1], p[2]+1-l)\n",
    "            self.board[(0,), p[1], f_p[2]:p[2]+1] = \"O\"\n",
    "        else: # d == \"E\":\n",
    "            self.board[(0,), p[1], p[2]:p[2]+l] = \"O\"\n",
    "\n",
    "machine = B(\"Machine\")\n",
    "user = B(\"Marcos\")"
   ]
  },
  {
   "cell_type": "code",
   "execution_count": 1099,
   "metadata": {},
   "outputs": [
    {
     "name": "stdout",
     "output_type": "stream",
     "text": [
      "(0, 8, 9)\n"
     ]
    }
   ],
   "source": [
    "point = user.rand_point()\n",
    "print(point)"
   ]
  },
  {
   "cell_type": "code",
   "execution_count": 1100,
   "metadata": {},
   "outputs": [
    {
     "name": "stdout",
     "output_type": "stream",
     "text": [
      "Hey (0, 8, 9)\n"
     ]
    },
    {
     "ename": "IndexError",
     "evalue": "only integers, slices (`:`), ellipsis (`...`), numpy.newaxis (`None`) and integer or boolean arrays are valid indices",
     "output_type": "error",
     "traceback": [
      "\u001b[1;31m---------------------------------------------------------------------------\u001b[0m",
      "\u001b[1;31mIndexError\u001b[0m                                Traceback (most recent call last)",
      "\u001b[1;32mc:\\Users\\malva\\Documents\\Projects\\BattleShip\\test.ipynb Cell 4'\u001b[0m in \u001b[0;36m<module>\u001b[1;34m\u001b[0m\n\u001b[1;32m----> <a href='vscode-notebook-cell:/c%3A/Users/malva/Documents/Projects/BattleShip/test.ipynb#ch0000005?line=0'>1</a>\u001b[0m direction \u001b[39m=\u001b[39m user\u001b[39m.\u001b[39;49mdirection(point, \u001b[39m4\u001b[39;49m)\n\u001b[0;32m      <a href='vscode-notebook-cell:/c%3A/Users/malva/Documents/Projects/BattleShip/test.ipynb#ch0000005?line=1'>2</a>\u001b[0m \u001b[39mprint\u001b[39m(direction)\n\u001b[0;32m      <a href='vscode-notebook-cell:/c%3A/Users/malva/Documents/Projects/BattleShip/test.ipynb#ch0000005?line=2'>3</a>\u001b[0m user\u001b[39m.\u001b[39mboat_placer(point, \u001b[39m4\u001b[39m, direction)\n",
      "\u001b[1;32mc:\\Users\\malva\\Documents\\Projects\\BattleShip\\test.ipynb Cell 2'\u001b[0m in \u001b[0;36mB.direction\u001b[1;34m(self, position, length)\u001b[0m\n\u001b[0;32m     <a href='vscode-notebook-cell:/c%3A/Users/malva/Documents/Projects/BattleShip/test.ipynb#ch0000002?line=50'>51</a>\u001b[0m \u001b[39mif\u001b[39;00m d \u001b[39m==\u001b[39m []:\n\u001b[0;32m     <a href='vscode-notebook-cell:/c%3A/Users/malva/Documents/Projects/BattleShip/test.ipynb#ch0000002?line=51'>52</a>\u001b[0m     \u001b[39mprint\u001b[39m(\u001b[39m'\u001b[39m\u001b[39mHey\u001b[39m\u001b[39m'\u001b[39m, p)\n\u001b[1;32m---> <a href='vscode-notebook-cell:/c%3A/Users/malva/Documents/Projects/BattleShip/test.ipynb#ch0000002?line=52'>53</a>\u001b[0m     \u001b[39mreturn\u001b[39;00m B\u001b[39m.\u001b[39;49mdirection(\u001b[39mself\u001b[39;49m, B\u001b[39m.\u001b[39;49mrand_point, length)\n\u001b[0;32m     <a href='vscode-notebook-cell:/c%3A/Users/malva/Documents/Projects/BattleShip/test.ipynb#ch0000002?line=54'>55</a>\u001b[0m \u001b[39m# With the all possible directions now randomly stores one of them\u001b[39;00m\n\u001b[0;32m     <a href='vscode-notebook-cell:/c%3A/Users/malva/Documents/Projects/BattleShip/test.ipynb#ch0000002?line=55'>56</a>\u001b[0m rand_d \u001b[39m=\u001b[39m random\u001b[39m.\u001b[39mchoice(d)\n",
      "\u001b[1;32mc:\\Users\\malva\\Documents\\Projects\\BattleShip\\test.ipynb Cell 2'\u001b[0m in \u001b[0;36mB.direction\u001b[1;34m(self, position, length)\u001b[0m\n\u001b[0;32m     <a href='vscode-notebook-cell:/c%3A/Users/malva/Documents/Projects/BattleShip/test.ipynb#ch0000002?line=19'>20</a>\u001b[0m l \u001b[39m=\u001b[39m \u001b[39mint\u001b[39m(length \u001b[39m-\u001b[39m \u001b[39m1\u001b[39m)\n\u001b[0;32m     <a href='vscode-notebook-cell:/c%3A/Users/malva/Documents/Projects/BattleShip/test.ipynb#ch0000002?line=20'>21</a>\u001b[0m c \u001b[39m=\u001b[39m {\u001b[39m\"\u001b[39m\u001b[39mN\u001b[39m\u001b[39m\"\u001b[39m:\u001b[39m0\u001b[39m, \u001b[39m\"\u001b[39m\u001b[39mS\u001b[39m\u001b[39m\"\u001b[39m:\u001b[39m0\u001b[39m, \u001b[39m\"\u001b[39m\u001b[39mE\u001b[39m\u001b[39m\"\u001b[39m:\u001b[39m0\u001b[39m, \u001b[39m\"\u001b[39m\u001b[39mW\u001b[39m\u001b[39m\"\u001b[39m:\u001b[39m0\u001b[39m}\n\u001b[1;32m---> <a href='vscode-notebook-cell:/c%3A/Users/malva/Documents/Projects/BattleShip/test.ipynb#ch0000002?line=22'>23</a>\u001b[0m \u001b[39mif\u001b[39;00m \u001b[39mself\u001b[39;49m\u001b[39m.\u001b[39;49mboard[p] \u001b[39m==\u001b[39m \u001b[39m\"\u001b[39m\u001b[39m \u001b[39m\u001b[39m\"\u001b[39m:\n\u001b[0;32m     <a href='vscode-notebook-cell:/c%3A/Users/malva/Documents/Projects/BattleShip/test.ipynb#ch0000002?line=23'>24</a>\u001b[0m     \u001b[39m# Vertical axis\u001b[39;00m\n\u001b[0;32m     <a href='vscode-notebook-cell:/c%3A/Users/malva/Documents/Projects/BattleShip/test.ipynb#ch0000002?line=24'>25</a>\u001b[0m     \u001b[39m# Down\u001b[39;00m\n\u001b[0;32m     <a href='vscode-notebook-cell:/c%3A/Users/malva/Documents/Projects/BattleShip/test.ipynb#ch0000002?line=25'>26</a>\u001b[0m     \u001b[39mif\u001b[39;00m p[\u001b[39m1\u001b[39m]\u001b[39m+\u001b[39ml \u001b[39m<\u001b[39m \u001b[39m10\u001b[39m:\n\u001b[0;32m     <a href='vscode-notebook-cell:/c%3A/Users/malva/Documents/Projects/BattleShip/test.ipynb#ch0000002?line=26'>27</a>\u001b[0m         x \u001b[39m=\u001b[39m \u001b[39mself\u001b[39m\u001b[39m.\u001b[39mboard[(\u001b[39m0\u001b[39m,), p[\u001b[39m1\u001b[39m]:p[\u001b[39m1\u001b[39m]\u001b[39m+\u001b[39ml, p[\u001b[39m2\u001b[39m]] \u001b[39m==\u001b[39m \u001b[39m\"\u001b[39m\u001b[39m \u001b[39m\u001b[39m\"\u001b[39m\n",
      "\u001b[1;31mIndexError\u001b[0m: only integers, slices (`:`), ellipsis (`...`), numpy.newaxis (`None`) and integer or boolean arrays are valid indices"
     ]
    }
   ],
   "source": [
    "\n",
    "direction = user.direction(point, 4)\n",
    "print(direction)\n",
    "user.boat_placer(point, 4, direction)"
   ]
  },
  {
   "cell_type": "code",
   "execution_count": null,
   "metadata": {},
   "outputs": [
    {
     "data": {
      "text/plain": [
       "array([[[' ', ' ', ' ', ' ', 'O', 'O', 'O', 'O', ' ', ' '],\n",
       "        [' ', ' ', ' ', 'O', ' ', 'O', 'O', 'O', 'O', ' '],\n",
       "        [' ', ' ', ' ', 'O', ' ', ' ', ' ', ' ', 'O', ' '],\n",
       "        [' ', ' ', ' ', 'O', ' ', ' ', ' ', ' ', 'O', ' '],\n",
       "        [' ', ' ', ' ', 'O', 'O', ' ', ' ', ' ', 'O', 'O'],\n",
       "        [' ', ' ', ' ', ' ', 'O', ' ', ' ', ' ', ' ', 'O'],\n",
       "        [' ', ' ', 'O', ' ', 'O', ' ', ' ', ' ', ' ', 'O'],\n",
       "        [' ', ' ', 'O', ' ', 'O', ' ', ' ', ' ', ' ', 'O'],\n",
       "        [' ', ' ', 'O', ' ', 'O', 'O', 'O', 'O', ' ', ' '],\n",
       "        [' ', ' ', 'O', ' ', ' ', ' ', ' ', ' ', ' ', ' ']],\n",
       "\n",
       "       [[' ', ' ', ' ', ' ', ' ', ' ', ' ', ' ', ' ', ' '],\n",
       "        [' ', ' ', ' ', ' ', ' ', ' ', ' ', ' ', ' ', ' '],\n",
       "        [' ', ' ', ' ', ' ', ' ', ' ', ' ', ' ', ' ', ' '],\n",
       "        [' ', ' ', ' ', ' ', ' ', ' ', ' ', ' ', ' ', ' '],\n",
       "        [' ', ' ', ' ', ' ', ' ', ' ', ' ', ' ', ' ', ' '],\n",
       "        [' ', ' ', ' ', ' ', ' ', ' ', ' ', ' ', ' ', ' '],\n",
       "        [' ', ' ', ' ', ' ', ' ', ' ', ' ', ' ', ' ', ' '],\n",
       "        [' ', ' ', ' ', ' ', ' ', ' ', ' ', ' ', ' ', ' '],\n",
       "        [' ', ' ', ' ', ' ', ' ', ' ', ' ', ' ', ' ', ' '],\n",
       "        [' ', ' ', ' ', ' ', ' ', ' ', ' ', ' ', ' ', ' ']]], dtype='<U1')"
      ]
     },
     "execution_count": 1094,
     "metadata": {},
     "output_type": "execute_result"
    }
   ],
   "source": [
    "user.board"
   ]
  },
  {
   "cell_type": "code",
   "execution_count": null,
   "metadata": {},
   "outputs": [],
   "source": [
    "import numpy as np\n",
    "\n",
    "arr = np.array([[True, True, True]])"
   ]
  },
  {
   "cell_type": "code",
   "execution_count": null,
   "metadata": {},
   "outputs": [
    {
     "data": {
      "text/plain": [
       "array([[ True, False,  True]])"
      ]
     },
     "execution_count": 1096,
     "metadata": {},
     "output_type": "execute_result"
    }
   ],
   "source": [
    "arr[0,1] = False\n",
    "arr"
   ]
  },
  {
   "cell_type": "code",
   "execution_count": null,
   "metadata": {},
   "outputs": [
    {
     "data": {
      "text/plain": [
       "False"
      ]
     },
     "execution_count": 1097,
     "metadata": {},
     "output_type": "execute_result"
    }
   ],
   "source": [
    "arr.all()"
   ]
  },
  {
   "cell_type": "code",
   "execution_count": null,
   "metadata": {},
   "outputs": [
    {
     "data": {
      "text/plain": [
       "3"
      ]
     },
     "execution_count": 1098,
     "metadata": {},
     "output_type": "execute_result"
    }
   ],
   "source": [
    "len(arr[0])"
   ]
  },
  {
   "cell_type": "code",
   "execution_count": null,
   "metadata": {},
   "outputs": [],
   "source": []
  }
 ],
 "metadata": {
  "interpreter": {
   "hash": "652df1fb7fdcda80b69e7f9ac464bf7cfecbf31578f5d2cb59dda1aacc69e331"
  },
  "kernelspec": {
   "display_name": "Python 3.10.2 64-bit",
   "language": "python",
   "name": "python3"
  },
  "language_info": {
   "codemirror_mode": {
    "name": "ipython",
    "version": 3
   },
   "file_extension": ".py",
   "mimetype": "text/x-python",
   "name": "python",
   "nbconvert_exporter": "python",
   "pygments_lexer": "ipython3",
   "version": "3.10.2"
  },
  "orig_nbformat": 4
 },
 "nbformat": 4,
 "nbformat_minor": 2
}
