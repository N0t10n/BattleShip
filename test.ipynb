{
 "cells": [
  {
   "cell_type": "code",
   "execution_count": 1,
   "metadata": {},
   "outputs": [],
   "source": [
    "from numpy import random, full\n",
    "from functions import BattleShip as bs"
   ]
  },
  {
   "cell_type": "code",
   "execution_count": 2,
   "metadata": {},
   "outputs": [],
   "source": [
    "class B:\n",
    "\n",
    "    def __init__(self, id=str):\n",
    "        self.id = id\n",
    "        self.board = full((2, 10, 10), \" \")\n",
    "        self.boats = {4:1, 3:2, 2:3, 1:4}\n",
    "\n",
    "    def rand_point(self):\n",
    "\n",
    "        point = (0,) + tuple(random.randint((self.board.shape[1], self.board.shape[2])))\n",
    "\n",
    "        if self.board[point] == \" \":\n",
    "            return point\n",
    "        \n",
    "        else:\n",
    "            return B.rand_point(self)\n",
    "    \n",
    "    def boat_placer(self, position=tuple, length=int):\n",
    "        \"\"\"\n",
    "        From position this function calculates all possible directions where a boat can be placed.\n",
    "        Once got that, randomly gets a direction and finally place the boat in the board.\n",
    "\n",
    "        Return:\n",
    "            Nothing. Rewrites the self.board\n",
    "        \"\"\"\n",
    "        p = position\n",
    "        l = length\n",
    "        c = {\"N\":0, \"S\":0, \"E\":0, \"W\":0} # Coordinates\n",
    "\n",
    "        if self.board[p] == \" \":\n",
    "            # Vertical axis\n",
    "            # Down\n",
    "            if p[1]+l < 10:\n",
    "                x = self.board[(0,), p[1]:p[1]+l, p[2]] == \" \"\n",
    "                if x.all() == True:\n",
    "                    c['S'] = 1\n",
    "            # Up\n",
    "            if p[1]-l >= 0:\n",
    "                x = self.board[(0,), p[1]:p[1]-l:-1, p[2]] == \" \"\n",
    "                if x.all() == True:\n",
    "                    c['N'] = 1\n",
    "\n",
    "            # Horizontal axis\n",
    "            # Right\n",
    "            if p[2]+l < 10:\n",
    "                x = self.board[(0,), p[1], p[2]:p[2]+l] == \" \"\n",
    "                if x.all() == True:\n",
    "                    c['E'] = 1\n",
    "            # Left\n",
    "            if p[2]-l >= 0:\n",
    "                x = self.board[(0,), p[1], p[2]:p[2]-l:-1] == \" \"\n",
    "                if x.all() == True:\n",
    "                    c['W'] = 1\n",
    "            \n",
    "            # Here compares which direction is equal to True to be listed in \"d\"\n",
    "            d = [k for k, v in c.items() if v == True] # Directions\n",
    "\n",
    "            if d == []:\n",
    "                # It's executed is the position doesn't have any possible direction\n",
    "                return B.boat_placer(self, B.rand_point(self), length)\n",
    "\n",
    "            else:\n",
    "            # With the all possible directions now randomly stores one of them\n",
    "                rand_d = random.choice(d)\n",
    "\n",
    "                # And finally here replaces those free spaces into \"O\" in the board\n",
    "                if rand_d == \"N\":\n",
    "                    f_p = ((0,), p[1]+1-l, p[2])\n",
    "                    self.board[(0,), p[1]:p[1]-l:-1, p[2]] = \"O\"\n",
    "                elif rand_d == \"S\":\n",
    "                    self.board[(0,), p[1]:p[1]+l, p[2]] = \"O\"\n",
    "                elif rand_d == \"W\":\n",
    "                    f_p = ((0,), p[1], p[2]+1-l)\n",
    "                    self.board[(0,), p[1], f_p[2]:p[2]+1] = \"O\"\n",
    "                else: # d == \"E\":\n",
    "                    self.board[(0,), p[1], p[2]:p[2]+l] = \"O\"\n",
    "\n",
    "        else:\n",
    "            # It's executed is the position is already \"O\"\n",
    "            return B.boat_placer(self, B.rand_point(self), length)\n",
    "    \n",
    "    def boat_placer_loop(self):\n",
    "        \n",
    "        # Keys are the boat length and values the number of boats per key\n",
    "        for k, v in self.boats.items():\n",
    "            for i in range(v):\n",
    "                # Random point\n",
    "                u_p = B.rand_point(self)\n",
    "                # Placing it\n",
    "                B.boat_placer(self, u_p, k)\n",
    "\n",
    "machine = B(\"Machine\")\n",
    "user = B(\"Marcos\")"
   ]
  },
  {
   "cell_type": "code",
   "execution_count": 3,
   "metadata": {},
   "outputs": [],
   "source": [
    "user.boat_placer_loop()"
   ]
  },
  {
   "cell_type": "code",
   "execution_count": 4,
   "metadata": {},
   "outputs": [
    {
     "data": {
      "text/plain": [
       "array([[[' ', ' ', ' ', ' ', ' ', ' ', ' ', ' ', ' ', ' '],\n",
       "        [' ', ' ', ' ', ' ', 'O', 'O', ' ', 'O', 'O', ' '],\n",
       "        [' ', ' ', 'O', ' ', 'O', ' ', ' ', ' ', ' ', ' '],\n",
       "        [' ', ' ', 'O', ' ', ' ', ' ', ' ', ' ', ' ', ' '],\n",
       "        [' ', ' ', ' ', ' ', ' ', ' ', ' ', ' ', ' ', ' '],\n",
       "        [' ', ' ', ' ', ' ', ' ', ' ', ' ', ' ', 'O', ' '],\n",
       "        [' ', 'O', 'O', 'O', 'O', ' ', 'O', 'O', 'O', 'O'],\n",
       "        [' ', ' ', ' ', ' ', ' ', ' ', ' ', ' ', ' ', ' '],\n",
       "        [' ', 'O', 'O', 'O', 'O', ' ', ' ', ' ', ' ', ' '],\n",
       "        [' ', ' ', ' ', ' ', ' ', ' ', ' ', ' ', ' ', ' ']],\n",
       "\n",
       "       [[' ', ' ', ' ', ' ', ' ', ' ', ' ', ' ', ' ', ' '],\n",
       "        [' ', ' ', ' ', ' ', ' ', ' ', ' ', ' ', ' ', ' '],\n",
       "        [' ', ' ', ' ', ' ', ' ', ' ', ' ', ' ', ' ', ' '],\n",
       "        [' ', ' ', ' ', ' ', ' ', ' ', ' ', ' ', ' ', ' '],\n",
       "        [' ', ' ', ' ', ' ', ' ', ' ', ' ', ' ', ' ', ' '],\n",
       "        [' ', ' ', ' ', ' ', ' ', ' ', ' ', ' ', ' ', ' '],\n",
       "        [' ', ' ', ' ', ' ', ' ', ' ', ' ', ' ', ' ', ' '],\n",
       "        [' ', ' ', ' ', ' ', ' ', ' ', ' ', ' ', ' ', ' '],\n",
       "        [' ', ' ', ' ', ' ', ' ', ' ', ' ', ' ', ' ', ' '],\n",
       "        [' ', ' ', ' ', ' ', ' ', ' ', ' ', ' ', ' ', ' ']]], dtype='<U1')"
      ]
     },
     "execution_count": 4,
     "metadata": {},
     "output_type": "execute_result"
    }
   ],
   "source": [
    "user.board"
   ]
  },
  {
   "cell_type": "code",
   "execution_count": 45,
   "metadata": {},
   "outputs": [],
   "source": [
    "g = {4:1, 3:2, 2:3, 1:4}"
   ]
  },
  {
   "cell_type": "code",
   "execution_count": 46,
   "metadata": {},
   "outputs": [
    {
     "name": "stdout",
     "output_type": "stream",
     "text": [
      "(0, 8, 7)\n",
      "(0, 5, 1)\n",
      "(0, 7, 8)\n",
      "(0, 0, 8)\n",
      "(0, 7, 2)\n",
      "(0, 7, 3)\n",
      "(0, 9, 1)\n",
      "(0, 1, 1)\n",
      "(0, 5, 4)\n",
      "(0, 5, 6)\n"
     ]
    }
   ],
   "source": [
    "for k, v in g.items():\n",
    "    for i in range(v):\n",
    "        x = user.rand_point()\n",
    "        print(x)\n",
    "        user.boat_placer(x, k)"
   ]
  },
  {
   "cell_type": "code",
   "execution_count": 5,
   "metadata": {},
   "outputs": [
    {
     "data": {
      "text/plain": [
       "array([[[' ', ' ', ' ', ' ', ' ', ' ', ' ', ' ', ' ', ' '],\n",
       "        [' ', ' ', ' ', ' ', 'O', 'O', ' ', 'O', 'O', ' '],\n",
       "        [' ', ' ', 'O', ' ', 'O', ' ', ' ', ' ', ' ', ' '],\n",
       "        [' ', ' ', 'O', ' ', ' ', ' ', ' ', ' ', ' ', ' '],\n",
       "        [' ', ' ', ' ', ' ', ' ', ' ', ' ', ' ', ' ', ' '],\n",
       "        [' ', ' ', ' ', ' ', ' ', ' ', ' ', ' ', 'O', ' '],\n",
       "        [' ', 'O', 'O', 'O', 'O', ' ', 'O', 'O', 'O', 'O'],\n",
       "        [' ', ' ', ' ', ' ', ' ', ' ', ' ', ' ', ' ', ' '],\n",
       "        [' ', 'O', 'O', 'O', 'O', ' ', ' ', ' ', ' ', ' '],\n",
       "        [' ', ' ', ' ', ' ', ' ', ' ', ' ', ' ', ' ', ' ']],\n",
       "\n",
       "       [[' ', ' ', ' ', ' ', ' ', ' ', ' ', ' ', ' ', ' '],\n",
       "        [' ', ' ', ' ', ' ', ' ', ' ', ' ', ' ', ' ', ' '],\n",
       "        [' ', ' ', ' ', ' ', ' ', ' ', ' ', ' ', ' ', ' '],\n",
       "        [' ', ' ', ' ', ' ', ' ', ' ', ' ', ' ', ' ', ' '],\n",
       "        [' ', ' ', ' ', ' ', ' ', ' ', ' ', ' ', ' ', ' '],\n",
       "        [' ', ' ', ' ', ' ', ' ', ' ', ' ', ' ', ' ', ' '],\n",
       "        [' ', ' ', ' ', ' ', ' ', ' ', ' ', ' ', ' ', ' '],\n",
       "        [' ', ' ', ' ', ' ', ' ', ' ', ' ', ' ', ' ', ' '],\n",
       "        [' ', ' ', ' ', ' ', ' ', ' ', ' ', ' ', ' ', ' '],\n",
       "        [' ', ' ', ' ', ' ', ' ', ' ', ' ', ' ', ' ', ' ']]], dtype='<U1')"
      ]
     },
     "execution_count": 5,
     "metadata": {},
     "output_type": "execute_result"
    }
   ],
   "source": [
    "# user.boat_placer_loop()\n",
    "user.board"
   ]
  },
  {
   "cell_type": "code",
   "execution_count": null,
   "metadata": {},
   "outputs": [],
   "source": []
  }
 ],
 "metadata": {
  "interpreter": {
   "hash": "652df1fb7fdcda80b69e7f9ac464bf7cfecbf31578f5d2cb59dda1aacc69e331"
  },
  "kernelspec": {
   "display_name": "Python 3.10.2 64-bit",
   "language": "python",
   "name": "python3"
  },
  "language_info": {
   "codemirror_mode": {
    "name": "ipython",
    "version": 3
   },
   "file_extension": ".py",
   "mimetype": "text/x-python",
   "name": "python",
   "nbconvert_exporter": "python",
   "pygments_lexer": "ipython3",
   "version": "3.10.2"
  },
  "orig_nbformat": 4
 },
 "nbformat": 4,
 "nbformat_minor": 2
}
