{
 "cells": [
  {
   "cell_type": "code",
   "execution_count": 6,
   "metadata": {},
   "outputs": [],
   "source": [
    "import numpy as np\n",
    "from functions import BattleShip as bs"
   ]
  },
  {
   "cell_type": "code",
   "execution_count": 76,
   "metadata": {},
   "outputs": [
    {
     "data": {
      "text/plain": [
       "(1, 9, 7)"
      ]
     },
     "execution_count": 76,
     "metadata": {},
     "output_type": "execute_result"
    }
   ],
   "source": [
    "board = np.full((2, 10, 10), \" \")\n",
    "\n",
    "bs.rand_point(board, 1)"
   ]
  },
  {
   "cell_type": "code",
   "execution_count": 165,
   "metadata": {},
   "outputs": [],
   "source": [
    "def neighbor(board, position=tuple):\n",
    "    \"\"\"\n",
    "    Finds all possible free positions arround the given position argument.\n",
    "\n",
    "    Parameters:\n",
    "        -board: type array. A 3 dimensional array.\n",
    "        -position: type tuple. The position where the function will wandk on.\n",
    "    \n",
    "    Errands:\n",
    "\n",
    "    Return:\n",
    "        A dictionary with the position argument as key,\n",
    "        and a list of matrices positions of type tuple as value in the next andder:\n",
    "        above, above-right, above-left, below, below-right, below-left, right, left\n",
    "    \"\"\"\n",
    "    p = position\n",
    "    pos_list = []\n",
    "    pos = {}\n",
    "    try:\n",
    "        # The and condition is fitting the operations within the boundaries\n",
    "\n",
    "        # Above\n",
    "        if board[p[0], p[1]-1, p[2]] == \" \" and (0 <= p[1]-1 < board.shape[1]):\n",
    "            pos_list.append(tuple((p[0],) + (p[1]-1,) + (p[2],)))\n",
    "        # Above-right\n",
    "        # if p[1] != 9 or p[2] != 9:\n",
    "        #     if board[p[0], p[1]-1, p[2]+1] == \" \" and (0 <= p[1]-1 < board.shape[1]) and (0 <= p[2]+1 < board.shape[1]):\n",
    "        #         pos_list.append(tuple((p[0],) + (p[1]-1,) + (p[2]+1,)))\n",
    "        # # Above-left\n",
    "        # if board[p[0], p[1]-1, p[2]-1] == \" \" and (0 <= p[1]-1 < board.shape[1]) and (0 <= p[2]-1 < board.shape[1]):\n",
    "        #     pos_list.append(tuple((p[0],) + (p[1]-1,) + (p[2]-1,)))\n",
    "        # # Below\n",
    "        # if p[1] != 9:\n",
    "        #     if board[p[0], p[1]+1, p[2]] == \" \" and (0 <= p[1]+1 < board.shape[1]):\n",
    "        #         pos_list.append(tuple((p[0],) + (p[1]+1,) + (p[2],)))\n",
    "        # # Below-right\n",
    "        # if p[1] != 9:\n",
    "        #     if board[p[0], p[1]+1, p[2]+1] == \" \" and (0 <= p[1]+1 < board.shape[1]) and (0 <= p[2]+1 < board.shape[1]):\n",
    "        #         pos_list.append(tuple((p[0],) + (p[1]+1,) + (p[2]+1,)))\n",
    "        # # Below-left\n",
    "        # if p[1] != 9:\n",
    "        #     if board[p[0], p[1]+1, p[2]-1] == \" \" and (0 <= p[1]+1 < board.shape[1]) and (0 <= p[2]-1 < board.shape[1]):\n",
    "        #         pos_list.append(tuple((p[0],) + (p[1]+1,) + (p[2]-1,)))\n",
    "        # Right\n",
    "        if p[1] != 9 or p[2] != 9:\n",
    "            if board[p[0], p[1], p[2]+1] == \" \" and (0 <= p[2]+1 < board.shape[1]):\n",
    "                pos_list.append(tuple((p[0],) + (p[1],) + (p[2]+1,)))\n",
    "        # Left\n",
    "        if board[p[0], p[1], p[2]-1] == \" \" and (0 <= p[2]-1 < board.shape[1]):\n",
    "            pos_list.append(tuple((p[0],) + (p[1],) + (p[2]-1,)))\n",
    "        \n",
    "        pos[position] = pos_list\n",
    "\n",
    "        return pos\n",
    "    except IndexError as ie:\n",
    "        print(f\"{ie}. Check argument position.\")\n"
   ]
  },
  {
   "cell_type": "code",
   "execution_count": 78,
   "metadata": {},
   "outputs": [],
   "source": [
    "board[0,0,9] = \"O\""
   ]
  },
  {
   "cell_type": "code",
   "execution_count": 107,
   "metadata": {},
   "outputs": [
    {
     "data": {
      "text/plain": [
       "' '"
      ]
     },
     "execution_count": 107,
     "metadata": {},
     "output_type": "execute_result"
    }
   ],
   "source": [
    "b = (0, 1, 9)\n",
    "board[b]"
   ]
  },
  {
   "cell_type": "code",
   "execution_count": 166,
   "metadata": {},
   "outputs": [
    {
     "name": "stdout",
     "output_type": "stream",
     "text": [
      "index 10 is out of bounds for axis 2 with size 10. Check argument position.\n"
     ]
    }
   ],
   "source": [
    "neighbor(board, (0, 0, 9))"
   ]
  },
  {
   "cell_type": "code",
   "execution_count": 81,
   "metadata": {},
   "outputs": [
    {
     "data": {
      "text/plain": [
       "array([[[' ', ' ', ' ', ' ', ' ', ' ', ' ', ' ', ' ', 'O'],\n",
       "        [' ', ' ', ' ', ' ', ' ', ' ', ' ', ' ', ' ', ' '],\n",
       "        [' ', ' ', ' ', ' ', ' ', ' ', ' ', ' ', ' ', ' '],\n",
       "        [' ', ' ', ' ', ' ', ' ', ' ', ' ', ' ', ' ', ' '],\n",
       "        [' ', ' ', ' ', ' ', ' ', ' ', ' ', ' ', ' ', ' '],\n",
       "        [' ', ' ', ' ', ' ', ' ', ' ', ' ', ' ', ' ', ' '],\n",
       "        [' ', ' ', ' ', ' ', ' ', ' ', ' ', ' ', ' ', ' '],\n",
       "        [' ', ' ', ' ', ' ', ' ', ' ', ' ', ' ', ' ', ' '],\n",
       "        [' ', ' ', ' ', ' ', ' ', ' ', ' ', ' ', ' ', ' '],\n",
       "        [' ', ' ', ' ', ' ', ' ', ' ', ' ', ' ', ' ', ' ']],\n",
       "\n",
       "       [[' ', ' ', ' ', ' ', ' ', ' ', ' ', ' ', ' ', ' '],\n",
       "        [' ', ' ', ' ', ' ', ' ', ' ', ' ', ' ', ' ', ' '],\n",
       "        [' ', ' ', ' ', ' ', ' ', ' ', ' ', ' ', ' ', ' '],\n",
       "        [' ', ' ', ' ', ' ', ' ', ' ', ' ', ' ', ' ', ' '],\n",
       "        [' ', ' ', ' ', ' ', ' ', ' ', ' ', ' ', ' ', ' '],\n",
       "        [' ', ' ', ' ', ' ', ' ', ' ', ' ', ' ', ' ', ' '],\n",
       "        [' ', ' ', ' ', ' ', ' ', ' ', ' ', ' ', ' ', ' '],\n",
       "        [' ', ' ', ' ', ' ', ' ', ' ', ' ', ' ', ' ', ' '],\n",
       "        [' ', ' ', ' ', ' ', ' ', ' ', ' ', ' ', ' ', ' '],\n",
       "        [' ', ' ', ' ', ' ', ' ', ' ', ' ', ' ', ' ', ' ']]], dtype='<U1')"
      ]
     },
     "execution_count": 81,
     "metadata": {},
     "output_type": "execute_result"
    }
   ],
   "source": [
    "board"
   ]
  }
 ],
 "metadata": {
  "interpreter": {
   "hash": "652df1fb7fdcda80b69e7f9ac464bf7cfecbf31578f5d2cb59dda1aacc69e331"
  },
  "kernelspec": {
   "display_name": "Python 3.10.2 64-bit",
   "language": "python",
   "name": "python3"
  },
  "language_info": {
   "codemirror_mode": {
    "name": "ipython",
    "version": 3
   },
   "file_extension": ".py",
   "mimetype": "text/x-python",
   "name": "python",
   "nbconvert_exporter": "python",
   "pygments_lexer": "ipython3",
   "version": "3.10.2"
  },
  "orig_nbformat": 4
 },
 "nbformat": 4,
 "nbformat_minor": 2
}
